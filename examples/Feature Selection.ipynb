{
 "cells": [
  {
   "cell_type": "code",
   "execution_count": 1,
   "id": "6899febe",
   "metadata": {},
   "outputs": [],
   "source": [
    "import os\n",
    "\n",
    "# relevant only for this notebook\n",
    "os.chdir(\"..\")\n",
    "\n",
    "import MLUtils.evaluation.FeatureSelection as FeatureSelection\n",
    "\n",
    "%load_ext autoreload\n",
    "%autoreload 2"
   ]
  },
  {
   "cell_type": "code",
   "execution_count": 2,
   "id": "9c4ab8f5",
   "metadata": {},
   "outputs": [
    {
     "data": {
      "text/html": [
       "<div>\n",
       "<style scoped>\n",
       "    .dataframe tbody tr th:only-of-type {\n",
       "        vertical-align: middle;\n",
       "    }\n",
       "\n",
       "    .dataframe tbody tr th {\n",
       "        vertical-align: top;\n",
       "    }\n",
       "\n",
       "    .dataframe thead th {\n",
       "        text-align: right;\n",
       "    }\n",
       "</style>\n",
       "<table border=\"1\" class=\"dataframe\">\n",
       "  <thead>\n",
       "    <tr style=\"text-align: right;\">\n",
       "      <th></th>\n",
       "      <th>sepal length (cm)</th>\n",
       "      <th>sepal width (cm)</th>\n",
       "      <th>petal length (cm)</th>\n",
       "      <th>petal width (cm)</th>\n",
       "      <th>target</th>\n",
       "    </tr>\n",
       "  </thead>\n",
       "  <tbody>\n",
       "    <tr>\n",
       "      <th>0</th>\n",
       "      <td>5.1</td>\n",
       "      <td>3.5</td>\n",
       "      <td>1.4</td>\n",
       "      <td>0.2</td>\n",
       "      <td>0</td>\n",
       "    </tr>\n",
       "    <tr>\n",
       "      <th>1</th>\n",
       "      <td>4.9</td>\n",
       "      <td>3.0</td>\n",
       "      <td>1.4</td>\n",
       "      <td>0.2</td>\n",
       "      <td>0</td>\n",
       "    </tr>\n",
       "    <tr>\n",
       "      <th>2</th>\n",
       "      <td>4.7</td>\n",
       "      <td>3.2</td>\n",
       "      <td>1.3</td>\n",
       "      <td>0.2</td>\n",
       "      <td>0</td>\n",
       "    </tr>\n",
       "    <tr>\n",
       "      <th>3</th>\n",
       "      <td>4.6</td>\n",
       "      <td>3.1</td>\n",
       "      <td>1.5</td>\n",
       "      <td>0.2</td>\n",
       "      <td>0</td>\n",
       "    </tr>\n",
       "    <tr>\n",
       "      <th>4</th>\n",
       "      <td>5.0</td>\n",
       "      <td>3.6</td>\n",
       "      <td>1.4</td>\n",
       "      <td>0.2</td>\n",
       "      <td>0</td>\n",
       "    </tr>\n",
       "  </tbody>\n",
       "</table>\n",
       "</div>"
      ],
      "text/plain": [
       "   sepal length (cm)  sepal width (cm)  petal length (cm)  petal width (cm)  \\\n",
       "0                5.1               3.5                1.4               0.2   \n",
       "1                4.9               3.0                1.4               0.2   \n",
       "2                4.7               3.2                1.3               0.2   \n",
       "3                4.6               3.1                1.5               0.2   \n",
       "4                5.0               3.6                1.4               0.2   \n",
       "\n",
       "   target  \n",
       "0       0  \n",
       "1       0  \n",
       "2       0  \n",
       "3       0  \n",
       "4       0  "
      ]
     },
     "execution_count": 2,
     "metadata": {},
     "output_type": "execute_result"
    }
   ],
   "source": [
    "from sklearn import datasets\n",
    "iris = datasets.load_iris(as_frame=True)\n",
    "iris_df = iris.frame\n",
    "iris_df.head()"
   ]
  },
  {
   "cell_type": "code",
   "execution_count": 3,
   "id": "770f309e",
   "metadata": {},
   "outputs": [],
   "source": [
    "data_df = iris_df.drop(columns='target')\n",
    "label_df = iris_df['target']"
   ]
  },
  {
   "cell_type": "markdown",
   "id": "0ad3e458",
   "metadata": {},
   "source": [
    "# Variance Feature Selection"
   ]
  },
  {
   "cell_type": "code",
   "execution_count": 13,
   "id": "c4e42d52",
   "metadata": {},
   "outputs": [
    {
     "name": "stdout",
     "output_type": "stream",
     "text": [
      "VarianceThreshold selected 3 out of 4 features\n"
     ]
    }
   ],
   "source": [
    "selected_features_indices, selected_columns = FeatureSelection.get_variance_features(data_df, variance_threshold=0.05)"
   ]
  },
  {
   "cell_type": "code",
   "execution_count": 5,
   "id": "011a103e",
   "metadata": {},
   "outputs": [
    {
     "data": {
      "text/plain": [
       "numpy.ndarray"
      ]
     },
     "execution_count": 5,
     "metadata": {},
     "output_type": "execute_result"
    }
   ],
   "source": [
    "type(selected_features_indices)"
   ]
  },
  {
   "cell_type": "markdown",
   "id": "456c654d",
   "metadata": {},
   "source": [
    "# Univariate feature selection"
   ]
  },
  {
   "cell_type": "code",
   "execution_count": 10,
   "id": "dcaec119",
   "metadata": {},
   "outputs": [
    {
     "name": "stdout",
     "output_type": "stream",
     "text": [
      "Evaluating scores\n",
      "Computing ranks\n",
      "Custom selection selected 2 out of 4 features\n"
     ]
    }
   ],
   "source": [
    "from sklearn.feature_selection import f_classif, mutual_info_classif\n",
    "\n",
    "univariate_methods_list = [f_classif, mutual_info_classif]\n",
    "num_features_to_select_by_score = 3\n",
    "is_num_is_max = True\n",
    "num_features_to_select_total = 2\n",
    "\n",
    "selected_univariate_indices = FeatureSelection.get_univariate_feature_indices(data_df=data_df,\n",
    "                                                                              label_df=label_df,\n",
    "                                                                              univariate_methods_list=univariate_methods_list,\n",
    "                                                                              num_features_to_select_by_score=num_features_to_select_by_score,\n",
    "                                                                              num_features_to_select_total=num_features_to_select_total,\n",
    "                                                                              is_num_is_max=is_num_is_max)"
   ]
  },
  {
   "cell_type": "markdown",
   "id": "412c1207",
   "metadata": {},
   "source": [
    "# Multivariate feature selection"
   ]
  },
  {
   "cell_type": "code",
   "execution_count": 11,
   "id": "be6f36cb",
   "metadata": {},
   "outputs": [
    {
     "name": "stderr",
     "output_type": "stream",
     "text": [
      "[Parallel(n_jobs=-1)]: Using backend LokyBackend with 16 concurrent workers.\n",
      "[Parallel(n_jobs=-1)]: Done   4 out of   4 | elapsed:    0.0s finished\n",
      "Features: 1/4[Parallel(n_jobs=-1)]: Using backend LokyBackend with 16 concurrent workers.\n",
      "[Parallel(n_jobs=-1)]: Done   3 out of   3 | elapsed:    0.0s finished\n",
      "Features: 2/4[Parallel(n_jobs=-1)]: Using backend LokyBackend with 16 concurrent workers.\n",
      "[Parallel(n_jobs=-1)]: Done   2 out of   2 | elapsed:    0.0s finished\n",
      "Features: 3/4[Parallel(n_jobs=-1)]: Using backend LokyBackend with 16 concurrent workers.\n",
      "[Parallel(n_jobs=-1)]: Done   1 out of   1 | elapsed:    0.0s finished\n",
      "Features: 4/4"
     ]
    },
    {
     "name": "stdout",
     "output_type": "stream",
     "text": [
      "Running sequential features selection\n",
      "Running classifier number 1\n",
      "Starting Decision Tree multivariate feature selection process\n",
      "Evaluating fold 0\n",
      "Evaluating fold 1\n",
      "Evaluating fold 2\n",
      "Computing ranks\n",
      "Custom selection selected 2 out of 4 features\n"
     ]
    }
   ],
   "source": [
    "from sklearn.model_selection import KFold\n",
    "from sklearn.linear_model import LogisticRegression\n",
    "\n",
    "\n",
    "\n",
    "multivariate_features_indices, columns = \\\n",
    "FeatureSelection.get_multivariate_feature_indices(data_df=data_df,\n",
    "                                                  label_df=label_df,\n",
    "                                                  multivariate_methods_dict=multivariate_methods_dict,\n",
    "                                                  num_features_to_select_by_score=num_features_to_select_by_score,\n",
    "                                                  num_features_to_select_total=num_features_to_select_total,\n",
    "                                                  is_num_is_max=False,\n",
    "                                                  cross_validation=skf)"
   ]
  },
  {
   "cell_type": "markdown",
   "id": "cfaa304e",
   "metadata": {},
   "source": [
    "# Combination"
   ]
  },
  {
   "cell_type": "code",
   "execution_count": 22,
   "id": "9fecbc89",
   "metadata": {},
   "outputs": [
    {
     "name": "stdout",
     "output_type": "stream",
     "text": [
      "Original feature indices\n",
      " [0, 1, 2, 3]\n",
      "Original features\n",
      " Index(['sepal length (cm)', 'sepal width (cm)', 'petal length (cm)',\n",
      "       'petal width (cm)'],\n",
      "      dtype='object')\n",
      "Evaluating univariate scores\n",
      "Computing ranks\n",
      "Custom selection selected 3 out of 4 features\n",
      "['petal length (cm)', 'petal width (cm)', 'sepal length (cm)']\n",
      "[2, 3, 0]\n",
      "Evaluating multivariate scores\n",
      "Running sequential features selection\n",
      "Running classifier number 1\n"
     ]
    },
    {
     "name": "stderr",
     "output_type": "stream",
     "text": [
      "[Parallel(n_jobs=-1)]: Using backend LokyBackend with 16 concurrent workers.\n",
      "[Parallel(n_jobs=-1)]: Done   3 out of   3 | elapsed:    1.1s finished\n",
      "Features: 1/3[Parallel(n_jobs=-1)]: Using backend LokyBackend with 16 concurrent workers.\n",
      "[Parallel(n_jobs=-1)]: Done   2 out of   2 | elapsed:    0.4s finished\n",
      "Features: 2/3[Parallel(n_jobs=-1)]: Using backend LokyBackend with 16 concurrent workers.\n",
      "[Parallel(n_jobs=-1)]: Done   1 out of   1 | elapsed:    0.4s finished\n",
      "Features: 3/3"
     ]
    },
    {
     "name": "stdout",
     "output_type": "stream",
     "text": [
      "Starting Decision Tree multivariate feature selection process\n",
      "Evaluating fold 0\n",
      "Evaluating fold 1\n",
      "Evaluating fold 2\n",
      "Computing ranks\n",
      "Custom selection selected 3 out of 3 features\n",
      "['petal length (cm)', 'petal width (cm)', 'sepal length (cm)']\n",
      "[0, 1, 2]\n",
      "VarianceThreshold selected 2 out of 3 features\n",
      "['sepal length (cm)', 'petal length (cm)']\n",
      "[0, 2]\n"
     ]
    }
   ],
   "source": [
    "iris = datasets.load_iris(as_frame=True)\n",
    "iris_df = iris.frame\n",
    "data_df = iris_df.drop(columns='target')\n",
    "label_df = iris_df['target']\n",
    "\n",
    "print(\"Original feature indices\\n\", list(range(data_df.shape[1])))\n",
    "print(\"Original features\\n\", data_df.columns)\n",
    "\n",
    "# univariante\n",
    "univariate_methods_list = [f_classif, mutual_info_classif]\n",
    "num_features_to_select_by_score = 3\n",
    "is_num_is_max = True\n",
    "num_features_to_select_total = 3\n",
    "\n",
    "selected_univariate_indices, univariate_columns = \\\n",
    "FeatureSelection.get_univariate_feature_indices(data_df=data_df,\n",
    "                                   label_df=label_df,\n",
    "                                   univariate_methods_list=univariate_methods_list,\n",
    "                                   num_features_to_select_by_score=num_features_to_select_by_score,\n",
    "                                   num_features_to_select_total=num_features_to_select_total,\n",
    "                                   is_num_is_max=is_num_is_max)\n",
    "\n",
    "print(univariate_columns)\n",
    "print(selected_univariate_indices)\n",
    "\n",
    "univariate_features_df = data_df.iloc[:, selected_univariate_indices]\n",
    "\n",
    "# multivariate\n",
    "num_features_to_select_by_score = 3\n",
    "num_features_to_select_total = 2\n",
    "skf = KFold(n_splits=3)\n",
    "multivariate_methods_dict = {\n",
    "    \"sfs\":\n",
    "        {\n",
    "            \"estimator\": [LogisticRegression()],\n",
    "            \"forward\": True,\n",
    "            \"n_jobs\": -1,\n",
    "            \"k_features\": 'parsimonious'\n",
    "        },\n",
    "    \"decision_tree\": {}\n",
    "}\n",
    "\n",
    "multivariate_features_indices, multivariatecolumns = \\\n",
    "FeatureSelection.get_multivariate_feature_indices(data_df=univariate_features_df,\n",
    "                                     label_df=label_df,\n",
    "                                     multivariate_methods_dict=multivariate_methods_dict,\n",
    "                                     num_features_to_select_by_score=num_features_to_select_by_score,\n",
    "                                     num_features_to_select_total=num_features_to_select_total,\n",
    "                                     is_num_is_max=False,\n",
    "                                     cross_validation=skf)\n",
    "\n",
    "print(multivariatecolumns)\n",
    "print(multivariate_features_indices)\n",
    "\n",
    "multivariate_features_df = data_df.iloc[:, multivariate_features_indices]\n",
    "\n",
    "selected_features_indices, selected_columns = \\\n",
    "FeatureSelection.get_variance_features(multivariate_features_df, variance_threshold=0.05)\n",
    "\n",
    "print(selected_columns)\n",
    "print(selected_features_indices)\n",
    "\n",
    "variance_data_df = data_df.iloc[:, selected_features_indices]"
   ]
  }
 ],
 "metadata": {
  "kernelspec": {
   "display_name": "Python [conda env:mlutils]",
   "language": "python",
   "name": "conda-env-mlutils-py"
  },
  "language_info": {
   "codemirror_mode": {
    "name": "ipython",
    "version": 3
   },
   "file_extension": ".py",
   "mimetype": "text/x-python",
   "name": "python",
   "nbconvert_exporter": "python",
   "pygments_lexer": "ipython3",
   "version": "3.9.0"
  }
 },
 "nbformat": 4,
 "nbformat_minor": 5
}
